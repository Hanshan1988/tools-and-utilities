{
 "cells": [
  {
   "cell_type": "code",
   "execution_count": null,
   "metadata": {},
   "outputs": [],
   "source": [
    "# import plotly.plotly as py\n",
    "import plotly.graph_objs as go\n",
    "from plotly.offline import download_plotlyjs, init_notebook_mode, plot, iplot\n",
    "import cufflinks as cf"
   ]
  },
  {
   "cell_type": "code",
   "execution_count": null,
   "metadata": {},
   "outputs": [],
   "source": [
    "def plot_2d_scatter(df, x, y, xlab = '', ylab='', title='', filename='2d-scatter.html', inline=False):\n",
    "    # Create a trace\n",
    "    trace = go.Scattergl(\n",
    "        x = df[x],\n",
    "        y = df[y],\n",
    "        mode = 'markers'\n",
    "    )\n",
    "    \n",
    "    data = [trace]\n",
    "    if inline:\n",
    "        init_notebook_mode()\n",
    "        iplot(data, filename=filename)\n",
    "    else:\n",
    "        plot(data, filename=filename)"
   ]
  },
  {
   "cell_type": "code",
   "execution_count": null,
   "metadata": {},
   "outputs": [],
   "source": [
    "def plot_2d_ts(df, to_excl=[], xlab='Dates', ylab='', title='', filename = '2d-ts.html', inline=False):\n",
    "    \n",
    "    all_cols = df.columns\n",
    "    cols_plot = list(set(all_cols) - set(to_excl))\n",
    "    df_plot = df[cols_plot]\n",
    "    \n",
    "    data = df.iplot(asFigure=True, kind='scatter', xTitle=xlab, yTitle=ylab, title=title)\n",
    "    \n",
    "    if inline:\n",
    "        init_notebook_mode()\n",
    "        iplot(data, filename=filename)\n",
    "    else:\n",
    "        plot(data, filename=filename)"
   ]
  },
  {
   "cell_type": "code",
   "execution_count": null,
   "metadata": {},
   "outputs": [],
   "source": [
    "def plot_3d_scatter(df, x, y, z, filename = '3d-scatter.html', inline=False):\n",
    "    pass"
   ]
  }
 ],
 "metadata": {
  "jupytext": {
   "cell_metadata_filter": "-all",
   "formats": "ipynb,py:light",
   "notebook_metadata_filter": "-all",
   "text_representation": {
    "extension": ".py",
    "format_name": "light"
   }
  },
  "kernelspec": {
   "display_name": "Python 3",
   "language": "python",
   "name": "python3"
  },
  "language_info": {
   "codemirror_mode": {
    "name": "ipython",
    "version": 3
   },
   "file_extension": ".py",
   "mimetype": "text/x-python",
   "name": "python",
   "nbconvert_exporter": "python",
   "pygments_lexer": "ipython3",
   "version": "3.7.3"
  }
 },
 "nbformat": 4,
 "nbformat_minor": 2
}
