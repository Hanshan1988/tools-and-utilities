{
 "cells": [
  {
   "cell_type": "code",
   "execution_count": null,
   "metadata": {},
   "outputs": [],
   "source": [
    "# import plotly.plotly as py\n",
    "import pandas as pd\n",
    "import plotly.graph_objs as go\n",
    "from plotly.offline import download_plotlyjs, init_notebook_mode, plot, iplot\n",
    "import cufflinks as cf"
   ]
  },
  {
   "cell_type": "code",
   "execution_count": null,
   "metadata": {},
   "outputs": [],
   "source": [
    "def plot_2d_scatter(df, x, y, xlab = '', ylab='', title='', filename='2d-scatter.html', inline=False):\n",
    "    # Create a trace\n",
    "    trace = go.Scattergl(\n",
    "        x = df[x],\n",
    "        y = df[y],\n",
    "        mode = 'markers'\n",
    "    )\n",
    "    \n",
    "    data = [trace]\n",
    "    if inline:\n",
    "        init_notebook_mode()\n",
    "        iplot(data, filename=filename)\n",
    "    else:\n",
    "        plot(data, filename=filename)"
   ]
  },
  {
   "cell_type": "code",
   "execution_count": null,
   "metadata": {},
   "outputs": [],
   "source": [
    "def plot_2d_ts(df, to_excl=[], xlab='Dates', ylab='', title='', filename = '2d-ts.html', inline=False):\n",
    "    \n",
    "    all_cols = df.columns\n",
    "    cols_plot = list(set(all_cols) - set(to_excl))\n",
    "    df_plot = df[cols_plot]\n",
    "    \n",
    "    data = df.iplot(asFigure=True, kind='scatter', xTitle=xlab, yTitle=ylab, title=title)\n",
    "    \n",
    "    if inline:\n",
    "        init_notebook_mode()\n",
    "        iplot(data, filename=filename)\n",
    "    else:\n",
    "        plot(data, filename=filename)"
   ]
  },
  {
   "cell_type": "code",
   "execution_count": 9,
   "metadata": {},
   "outputs": [],
   "source": [
    "def plot_2d_bar(df, x, y, xlab ='', ylab='', title='', pct=False, filename='2d-bar.html', inline=False):\n",
    "    # Each bar stands for a value of x and is split up by y values\n",
    "    x_uniq = df[x].unique().tolist()\n",
    "    y_uniq = df[y].unique().tolist()\n",
    "    \n",
    "    multi_index = pd.MultiIndex.from_product([x_uniq, y_uniq], names=[x, y])\n",
    "    df_sub = df.groupby([x, y])[y].count()\n",
    "    pct_func = lambda x: x / float(x.sum()) if pct else x\n",
    "    df_sub = df_sub.groupby(level=0).apply(pct_func).reindex(multi_index, fill_value=0)\n",
    "    \n",
    "    data = [go.Bar(\n",
    "        x = [str(x) for x in x_uniq],\n",
    "        y = df_sub[:, y_uniq_n],\n",
    "        name = y_uniq_n\n",
    "        ) for y_uniq_n in y_uniq]\n",
    "    \n",
    "    layout = go.Layout(\n",
    "        barmode='stack')\n",
    "    \n",
    "    fig = go.Figure(data=data, layout=layout)\n",
    "    \n",
    "    if inline:\n",
    "        init_notebook_mode()\n",
    "        iplot(fig, filename=filename)\n",
    "    else:\n",
    "        plot(fig, filename=filename)\n",
    "    return df_sub"
   ]
  },
  {
   "cell_type": "code",
   "execution_count": null,
   "metadata": {},
   "outputs": [],
   "source": [
    "def plot_3d_scatter(df, x, y, z, filename = '3d-scatter.html', inline=False):\n",
    "    pass"
   ]
  }
 ],
 "metadata": {
  "jupytext": {
   "cell_metadata_filter": "-all",
   "formats": "ipynb,py:light",
   "notebook_metadata_filter": "-all",
   "text_representation": {
    "extension": ".py",
    "format_name": "light"
   }
  },
  "kernelspec": {
   "display_name": "Python 3",
   "language": "python",
   "name": "python3"
  },
  "language_info": {
   "codemirror_mode": {
    "name": "ipython",
    "version": 3
   },
   "file_extension": ".py",
   "mimetype": "text/x-python",
   "name": "python",
   "nbconvert_exporter": "python",
   "pygments_lexer": "ipython3",
   "version": "3.7.3"
  }
 },
 "nbformat": 4,
 "nbformat_minor": 2
}
