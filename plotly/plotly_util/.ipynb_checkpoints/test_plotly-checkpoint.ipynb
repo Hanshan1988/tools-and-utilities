{
 "cells": [
  {
   "cell_type": "code",
   "execution_count": 1,
   "metadata": {},
   "outputs": [],
   "source": [
    "import pandas as pd\n",
    "import numpy as np\n",
    "import cufflinks as cf\n",
    "from plotly_util import plot_2d_scatter, plot_2d_ts, plot_2d_bar, plot_depth_chart"
   ]
  },
  {
   "cell_type": "code",
   "execution_count": 2,
   "metadata": {},
   "outputs": [
    {
     "data": {
      "text/html": [
       "<div>\n",
       "<style scoped>\n",
       "    .dataframe tbody tr th:only-of-type {\n",
       "        vertical-align: middle;\n",
       "    }\n",
       "\n",
       "    .dataframe tbody tr th {\n",
       "        vertical-align: top;\n",
       "    }\n",
       "\n",
       "    .dataframe thead th {\n",
       "        text-align: right;\n",
       "    }\n",
       "</style>\n",
       "<table border=\"1\" class=\"dataframe\">\n",
       "  <thead>\n",
       "    <tr style=\"text-align: right;\">\n",
       "      <th></th>\n",
       "      <th>a</th>\n",
       "      <th>b</th>\n",
       "    </tr>\n",
       "  </thead>\n",
       "  <tbody>\n",
       "    <tr>\n",
       "      <th>0</th>\n",
       "      <td>-0.363063</td>\n",
       "      <td>0.254116</td>\n",
       "    </tr>\n",
       "    <tr>\n",
       "      <th>1</th>\n",
       "      <td>-1.275645</td>\n",
       "      <td>-0.500940</td>\n",
       "    </tr>\n",
       "    <tr>\n",
       "      <th>2</th>\n",
       "      <td>0.111859</td>\n",
       "      <td>2.135925</td>\n",
       "    </tr>\n",
       "    <tr>\n",
       "      <th>3</th>\n",
       "      <td>0.978006</td>\n",
       "      <td>-1.219221</td>\n",
       "    </tr>\n",
       "    <tr>\n",
       "      <th>4</th>\n",
       "      <td>-0.160473</td>\n",
       "      <td>-0.380660</td>\n",
       "    </tr>\n",
       "  </tbody>\n",
       "</table>\n",
       "</div>"
      ],
      "text/plain": [
       "          a         b\n",
       "0 -0.363063  0.254116\n",
       "1 -1.275645 -0.500940\n",
       "2  0.111859  2.135925\n",
       "3  0.978006 -1.219221\n",
       "4 -0.160473 -0.380660"
      ]
     },
     "execution_count": 2,
     "metadata": {},
     "output_type": "execute_result"
    }
   ],
   "source": [
    "N = 1000\n",
    "random_x = np.random.randn(N)\n",
    "random_y = np.random.randn(N)\n",
    "\n",
    "df = pd.DataFrame({'a':random_x, 'b': random_y})\n",
    "df.head()"
   ]
  },
  {
   "cell_type": "code",
   "execution_count": null,
   "metadata": {},
   "outputs": [],
   "source": [
    "plot_2d_scatter(df, 'a', 'b', filename='test_file.html', inline=True)"
   ]
  },
  {
   "cell_type": "code",
   "execution_count": null,
   "metadata": {},
   "outputs": [],
   "source": [
    "df =cf.datagen.lines()\n",
    "df.head()"
   ]
  },
  {
   "cell_type": "code",
   "execution_count": null,
   "metadata": {},
   "outputs": [],
   "source": [
    "plot_2d_ts(df, inline=True)"
   ]
  },
  {
   "cell_type": "code",
   "execution_count": null,
   "metadata": {},
   "outputs": [],
   "source": [
    "random_x = [1, 1, 1, 2, 2, 2, 3, 3, 3, 3]\n",
    "random_y = [0, 1, 0, 1, 0, 1, 1, 1, 1, 1]\n",
    "\n",
    "df = pd.DataFrame({'time':random_x, 'label': random_y})\n",
    "df.head()"
   ]
  },
  {
   "cell_type": "code",
   "execution_count": null,
   "metadata": {},
   "outputs": [],
   "source": [
    "plot_2d_bar(df, 'time', 'label', pct=True, inline=True)"
   ]
  },
  {
   "cell_type": "code",
   "execution_count": null,
   "metadata": {},
   "outputs": [],
   "source": [
    "## step plot\n",
    "df = pd.DataFrame({'value':[1,2,3,3,5,6,2]})\n",
    "\n",
    "import plotly.graph_objs as go\n",
    "from plotly.offline import download_plotlyjs, init_notebook_mode, plot, iplot\n",
    "trace1 = {\n",
    "  \"x\": df.index,\n",
    "  \"y\": df[\"value\"],\n",
    "  \"line\": {\"shape\": 'hv'},\n",
    "  \"mode\": 'lines',\n",
    "  \"name\": 'value',\n",
    "  \"type\": 'scatter'\n",
    "};\n",
    "\n",
    "data = [trace1]\n",
    "plot({\n",
    "    \"data\": data\n",
    "})"
   ]
  },
  {
   "cell_type": "code",
   "execution_count": 2,
   "metadata": {},
   "outputs": [
    {
     "ename": "NameError",
     "evalue": "global name 'buy_vol_list' is not defined",
     "output_type": "error",
     "traceback": [
      "\u001b[0;31m---------------------------------------------------------------------------\u001b[0m",
      "\u001b[0;31mNameError\u001b[0m                                 Traceback (most recent call last)",
      "\u001b[0;32m<ipython-input-2-17e05698f0a8>\u001b[0m in \u001b[0;36m<module>\u001b[0;34m()\u001b[0m\n\u001b[1;32m      8\u001b[0m                    'volume': [10, 10, 100, 10, 20, 100]})\n\u001b[1;32m      9\u001b[0m \u001b[0;34m\u001b[0m\u001b[0m\n\u001b[0;32m---> 10\u001b[0;31m \u001b[0mplot_depth_chart\u001b[0m\u001b[0;34m(\u001b[0m\u001b[0mdf\u001b[0m\u001b[0;34m)\u001b[0m\u001b[0;34m\u001b[0m\u001b[0m\n\u001b[0m",
      "\u001b[0;32m/Users/hanshan/Google Drive/repos/tools-and-utilities/plotly/plotly_util/plotly_util.py\u001b[0m in \u001b[0;36mplot_depth_chart\u001b[0;34m(df, filename, inline)\u001b[0m\n\u001b[1;32m     83\u001b[0m     \u001b[0;31m# plot\u001b[0m\u001b[0;34m\u001b[0m\u001b[0;34m\u001b[0m\u001b[0m\n\u001b[1;32m     84\u001b[0m     \u001b[0mfig\u001b[0m \u001b[0;34m=\u001b[0m \u001b[0mgo\u001b[0m\u001b[0;34m.\u001b[0m\u001b[0mFigure\u001b[0m\u001b[0;34m(\u001b[0m\u001b[0;34m)\u001b[0m\u001b[0;34m\u001b[0m\u001b[0m\n\u001b[0;32m---> 85\u001b[0;31m     fig.add_trace(go.Scatter(x=buy_price_list, y=buy_vol_list,\n\u001b[0m\u001b[1;32m     86\u001b[0m                              \u001b[0mline\u001b[0m\u001b[0;34m=\u001b[0m\u001b[0;34m{\u001b[0m\u001b[0;34m\"shape\"\u001b[0m\u001b[0;34m:\u001b[0m \u001b[0;34m'vh'\u001b[0m\u001b[0;34m}\u001b[0m\u001b[0;34m,\u001b[0m\u001b[0;34m\u001b[0m\u001b[0m\n\u001b[1;32m     87\u001b[0m                              \u001b[0mfill\u001b[0m\u001b[0;34m=\u001b[0m\u001b[0;34m'tozeroy'\u001b[0m\u001b[0;34m,\u001b[0m\u001b[0;34m\u001b[0m\u001b[0m\n",
      "\u001b[0;31mNameError\u001b[0m: global name 'buy_vol_list' is not defined"
     ]
    }
   ],
   "source": [
    "# buy_price_list = [100.03, 100.02, 100.01]\n",
    "# buy_quantity_list = [10, 20, 120]\n",
    "# sell_price_list = [100.05, 100.06, 100.09]\n",
    "# sell_quantity_list = [10, 30, 130]\n",
    "\n",
    "df = pd.DataFrame({'type': ['buy'] * 3 + ['sell'] * 3, \n",
    "                   'price': [100.03, 100.02, 100.01]+[100.05, 100.06, 100.09], \n",
    "                   'volume': [10, 10, 100, 10, 20, 100]})\n",
    "\n",
    "plot_depth_chart(df)"
   ]
  },
  {
   "cell_type": "code",
   "execution_count": null,
   "metadata": {},
   "outputs": [],
   "source": []
  },
  {
   "cell_type": "code",
   "execution_count": null,
   "metadata": {},
   "outputs": [],
   "source": []
  }
 ],
 "metadata": {
  "kernelspec": {
   "display_name": "Python 3",
   "language": "python",
   "name": "python3"
  },
  "language_info": {
   "codemirror_mode": {
    "name": "ipython",
    "version": 2
   },
   "file_extension": ".py",
   "mimetype": "text/x-python",
   "name": "python",
   "nbconvert_exporter": "python",
   "pygments_lexer": "ipython2",
   "version": "2.7.15"
  }
 },
 "nbformat": 4,
 "nbformat_minor": 2
}
