{
 "cells": [
  {
   "cell_type": "code",
   "execution_count": 1,
   "metadata": {},
   "outputs": [],
   "source": [
    "# import libraries\n",
    "import json\n",
    "import numpy as np\n",
    "import os\n",
    "import pandas as pd\n",
    "import pickle\n",
    "import re\n",
    "import subprocess\n",
    "import sys\n",
    "\n",
    "# specific imports\n",
    "sys.path.append('./')\n",
    "from feat_preproc import preproc_fit, preproc_transform"
   ]
  },
  {
   "cell_type": "code",
   "execution_count": null,
   "metadata": {},
   "outputs": [],
   "source": [
    "# numeric features:[feature, default_nan]\n",
    "num_vars = {'ft_acct_link_lcn_at_order1': 0\n",
    "            ,'ft_acct_cust_lcn_at_order1': 0\n",
    "            ,'ft_acct_age': 0\n",
    "            ,'ft_survey_time_spent': 0\n",
    "            ,'ft_entry_campaign_send': 0\n",
    "            ,'ft_entry_campaign_redeem': 0\n",
    "            ,'ft_entry_campaign_pre_order1': 1000\n",
    "            ,'ft_cvm_tenure': 0\n",
    "            ,'ft_cvm_wks_last_shop': 99\n",
    "            ,'ft_cvm_spend_prev_8wks': 0\n",
    "            ,'ft_drvt_nrst_coles': 999\n",
    "            ,'ft_drvt_nrst_aldi': 999\n",
    "            ,'ft_drvt_nrst_iga': 999\n",
    "            ,'ft_last_order_days': 999\n",
    "           }\n",
    "\n",
    "# categorical features:[feature, n_catg, incl_nan]\n",
    "catg_vars = {'ft_acct_shopper': 1\n",
    "             ,'ft_acct_optin_samples': 1\n",
    "             ,'ft_acct_optin_email': 1\n",
    "             ,'ft_acct_optin_catalogue': 1\n",
    "             ,'ft_survey_req_callback': 1\n",
    "             ,'ft_survey_completed': 1\n",
    "             ,'ft_survey_prchs_type': 5\n",
    "             ,'ft_cvm_macro_segment_curr': 20\n",
    "             ,'ft_cvm_segment_cell_curr': 30\n",
    "             ,'ft_cvm_affluence': 9\n",
    "             ,'ft_cvm_lifestage': 9\n",
    "             ,'ft_order1_create_day': 7 \n",
    "             ,'ft_acct_reg_day': 7\n",
    "             ,'ft_order1_is_pickup': 1\n",
    "             ,'ft_order1_cust_notified': 1\n",
    "             ,'ft_order1_allows_subs': 1\n",
    "             ,'ft_order1_negative': 1\n",
    "             ,'ft_order1_send_to_cc': 1\n",
    "             ,'ft_order1_contains_subs': 1\n",
    "             ,'ft_acct_prim_dlv_state': 9\n",
    "            }"
   ]
  },
  {
   "cell_type": "code",
   "execution_count": null,
   "metadata": {},
   "outputs": [],
   "source": [
    "print('=====> Fitting pre-processor based on model data')\n",
    "preprocessor = preproc_fit(df,num_vars,catg_vars)\n",
    "# save locally\n",
    "pickle.dump(preprocessor, open(f'{local_preproc_dir}/{preproc_fname}', 'wb'))\n",
    "    \n",
    "# transform/apply feature pre-processing\n",
    "df_preproc = preproc_transform(df, preprocessor)\n",
    "df_preproc.to_parquet(output_fname,index=False)\n",
    "print(f\"=====> Saving pre-processed file to {output_fname}\")"
   ]
  }
 ],
 "metadata": {
  "kernelspec": {
   "display_name": "Python 3",
   "language": "python",
   "name": "python3"
  },
  "language_info": {
   "codemirror_mode": {
    "name": "ipython",
    "version": 3
   },
   "file_extension": ".py",
   "mimetype": "text/x-python",
   "name": "python",
   "nbconvert_exporter": "python",
   "pygments_lexer": "ipython3",
   "version": "3.7.3"
  }
 },
 "nbformat": 4,
 "nbformat_minor": 2
}
